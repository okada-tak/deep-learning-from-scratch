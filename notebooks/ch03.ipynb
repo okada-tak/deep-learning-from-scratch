{
  "cells": [
    {
      "cell_type": "markdown",
      "source": [
        "[![Open In Colab](https://colab.research.google.com/assets/colab-badge.svg)](https://colab.research.google.com/github/okada-tak/deep-learning-from-scratch/blob/master/notebooks/ch03.ipynb)\n",
        "[![Open in SageMaker Studio Lab](https://studiolab.sagemaker.aws/studiolab.svg)](https://studiolab.sagemaker.aws/import/github/okada-tak/deep-learning-from-scratch/blob/master/notebooks/ch03.ipynb)  \n",
        "# ■追記（岡田）\n",
        "# 3章 ニューラルネットワーク のまとめ\n",
        "- ニューラルネットワークでは、活性化関数としてシグモイド関数やReLU関数のような滑らかに変化する関数を利用する。  \n",
        "　注：「滑らかに」とあるがReLU関数は微分可能ではないよね？  \n",
        "　　　（数学的にはx=0で微分不可だが、微分係数0側 or 1側に含めたりするみたい。）\n",
        "- NumPyの多次元配列をうまく使うことで、ニューラルネットワークを効率良く実装することができる。  \n",
        "- 機械学習の問題は、回帰問題と分類問題に大別できる。  \n",
        "- 出力層で使用する活性化関数は、回帰問題では恒等関数、分類問題ではソフトマックス関数を一般的に利用する。  \n",
        "- 分類問題では、出力層のニューロンの数を分類するクラス数に設定する。  \n",
        "- 入力データのまとまりをバッチと言い、バッチ単位で推論処理を行うことで、計算を高速に行うことができる。"
      ],
      "metadata": {
        "id": "G-X1I5TjyMVo"
      }
    },
    {
      "cell_type": "markdown",
      "metadata": {
        "id": "dlMER5hv042A"
      },
      "source": [
        "# ch03/step_function.py"
      ]
    },
    {
      "cell_type": "code",
      "execution_count": null,
      "metadata": {
        "colab": {
          "base_uri": "https://localhost:8080/",
          "height": 265
        },
        "id": "RMslgV-s042E",
        "outputId": "2a49fd66-7378-411e-911c-db9ed7bc1efa"
      },
      "outputs": [
        {
          "output_type": "display_data",
          "data": {
            "text/plain": [
              "<Figure size 432x288 with 1 Axes>"
            ],
            "image/png": "[encoded data removed]"
          },
          "metadata": {
            "needs_background": "light"
          }
        }
      ],
      "source": [
        "import numpy as np\n",
        "import matplotlib.pylab as plt\n",
        "\n",
        "\n",
        "def step_function(x):\n",
        "    return np.array(x > 0, dtype=np.int32)\n",
        "\n",
        "X = np.arange(-5.0, 5.0, 0.1)\n",
        "Y = step_function(X)\n",
        "plt.plot(X, Y)\n",
        "plt.ylim(-0.1, 1.1)  # 図で描画するy軸の範囲を指定\n",
        "plt.show()"
      ]
    },
    {
      "cell_type": "markdown",
      "metadata": {
        "id": "DjfBha0Z042G"
      },
      "source": [
        "# ch03/sigmoid.py"
      ]
    },
    {
      "cell_type": "code",
      "execution_count": null,
      "metadata": {
        "colab": {
          "base_uri": "https://localhost:8080/",
          "height": 265
        },
        "id": "FVeIZFvd042H",
        "outputId": "6bc9691e-98c0-4d64-9d7a-70e6b399fc5e"
      },
      "outputs": [
        {
          "output_type": "display_data",
          "data": {
            "text/plain": [
              "<Figure size 432x288 with 1 Axes>"
            ],
            "image/png": "[encoded data removed]"
          },
          "metadata": {
            "needs_background": "light"
          }
        }
      ],
      "source": [
        "import numpy as np\n",
        "import matplotlib.pylab as plt\n",
        "\n",
        "\n",
        "def sigmoid(x):\n",
        "    return 1 / (1 + np.exp(-x))    \n",
        "\n",
        "X = np.arange(-5.0, 5.0, 0.1)\n",
        "Y = sigmoid(X)\n",
        "plt.plot(X, Y)\n",
        "plt.ylim(-0.1, 1.1)\n",
        "plt.show()\n"
      ]
    },
    {
      "cell_type": "markdown",
      "metadata": {
        "id": "cR6CKNZl042H"
      },
      "source": [
        "# ch03/sig_step_compare.py"
      ]
    },
    {
      "cell_type": "code",
      "execution_count": null,
      "metadata": {
        "colab": {
          "base_uri": "https://localhost:8080/",
          "height": 265
        },
        "id": "RmyuXuAA042I",
        "outputId": "df20c261-d263-4a3d-dffb-beea3fd52f6a"
      },
      "outputs": [
        {
          "output_type": "display_data",
          "data": {
            "text/plain": [
              "<Figure size 432x288 with 1 Axes>"
            ],
            "image/png": "[encoded data removed]"
          },
          "metadata": {
            "needs_background": "light"
          }
        }
      ],
      "source": [
        "import numpy as np\n",
        "import matplotlib.pylab as plt\n",
        "\n",
        "\n",
        "def sigmoid(x):\n",
        "    return 1 / (1 + np.exp(-x))    \n",
        "\n",
        "\n",
        "def step_function(x):\n",
        "    return np.array(x > 0, dtype=np.int32)\n",
        "\n",
        "x = np.arange(-5.0, 5.0, 0.1)\n",
        "y1 = sigmoid(x)\n",
        "y2 = step_function(x)\n",
        "\n",
        "plt.plot(x, y1)\n",
        "plt.plot(x, y2, 'k--')\n",
        "plt.ylim(-0.1, 1.1) #図で描画するy軸の範囲を指定\n",
        "plt.show()"
      ]
    },
    {
      "cell_type": "markdown",
      "metadata": {
        "id": "86Ds-7Kp042I"
      },
      "source": [
        "# ch03/relu.py"
      ]
    },
    {
      "cell_type": "code",
      "execution_count": null,
      "metadata": {
        "colab": {
          "base_uri": "https://localhost:8080/",
          "height": 265
        },
        "id": "mfZn7JJS042J",
        "outputId": "08386aaa-7f52-472c-c5eb-64e2c33d3249"
      },
      "outputs": [
        {
          "output_type": "display_data",
          "data": {
            "text/plain": [
              "<Figure size 432x288 with 1 Axes>"
            ],
            "image/png": "[encoded data removed]"
          },
          "metadata": {
            "needs_background": "light"
          }
        }
      ],
      "source": [
        "import numpy as np\n",
        "import matplotlib.pylab as plt\n",
        "\n",
        "\n",
        "def relu(x):\n",
        "    return np.maximum(0, x)\n",
        "\n",
        "x = np.arange(-5.0, 5.0, 0.1)\n",
        "y = relu(x)\n",
        "plt.plot(x, y)\n",
        "plt.ylim(-1.0, 5.5)\n",
        "plt.show()"
      ]
    },
    {
      "cell_type": "markdown",
      "source": [
        "# ■追記（岡田）\n",
        "Leaky ReLUについてもサンプルを追加する。  \n",
        "https://atmarkit.itmedia.co.jp/ait/articles/2005/13/news009.html\n",
        "\n",
        "Leaky ReLU（Leaky Rectified Linear Unit：LReLU）とは、関数への入力値が0より下の場合には出力値が入力値をα倍した値（※αの値は基本的に0.01）、入力値が0以上の場合には出力値が入力値と同じ値となる関数である。\n",
        "\n",
        "↓にサンプルを表示している（差がわかりづらいのでαを0.1としている）。\n",
        "\n"
      ],
      "metadata": {
        "id": "IYFR0gLU46bj"
      }
    },
    {
      "cell_type": "code",
      "source": [
        "import numpy as np\n",
        "import matplotlib.pylab as plt\n",
        "\n",
        "def lrelu(x, alpha=0.1):\n",
        "  return np.where(x >= 0.0, x, alpha * x)\n",
        "\n",
        "\n",
        "x = np.arange(-5.0, 5.0, 0.1)\n",
        "y = lrelu(x)\n",
        "plt.plot(x, y, label='Leaky ReLU')\n",
        "plt.ylim(-1.0, 5.5)\n",
        "\n",
        "# ReLUも表示\n",
        "y1=relu(x)\n",
        "plt.plot(x, y1, label='ReLU')\n",
        "plt.legend()\n",
        "plt.show()"
      ],
      "metadata": {
        "colab": {
          "base_uri": "https://localhost:8080/",
          "height": 265
        },
        "id": "ESuxNzxG4fQO",
        "outputId": "fdf3fbd2-ea27-461d-c8bd-11f751a37481"
      },
      "execution_count": null,
      "outputs": [
        {
          "output_type": "display_data",
          "data": {
            "text/plain": [
              "<Figure size 432x288 with 1 Axes>"
            ],
            "image/png": "[encoded data removed]"
          },
          "metadata": {
            "needs_background": "light"
          }
        }
      ]
    },
    {
      "cell_type": "markdown",
      "source": [],
      "metadata": {
        "id": "_hjRxIyhRq1R"
      }
    },
    {
      "cell_type": "markdown",
      "source": [
        "# ■追記（岡田）\n",
        "tanhについてもサンプルを追加する。  \n",
        "https://atmarkit.itmedia.co.jp/ait/articles/2003/19/news015.html\n",
        "\n",
        "↓にサンプルを表示している。\n",
        "\n"
      ],
      "metadata": {
        "id": "tjY1UEvTRs-S"
      }
    },
    {
      "cell_type": "code",
      "source": [
        "import numpy as np\n",
        "import matplotlib.pylab as plt\n",
        "\n",
        "def tanh(x):\n",
        "  return (np.exp(x) - np.exp(-x)) / (np.exp(x) + np.exp(-x))\n",
        "\n",
        "x = np.arange(-5.0, 5.0, 0.1)\n",
        "y = tanh(x)\n",
        "plt.plot(x, y, label='tanh')\n",
        "plt.ylim(-1.5, 1.5)\n",
        "\n",
        "# sigmoidも表示\n",
        "y1 = sigmoid(x)\n",
        "plt.plot(x, y1, label='sigmoid')\n",
        "plt.legend()\n",
        "plt.show()"
      ],
      "metadata": {
        "colab": {
          "base_uri": "https://localhost:8080/",
          "height": 269
        },
        "outputId": "0a6f3c78-4488-41d8-d5b9-9ca6e0d8e69d",
        "id": "zmpCpE_fSCPG"
      },
      "execution_count": null,
      "outputs": [
        {
          "output_type": "display_data",
          "data": {
            "text/plain": [
              "<Figure size 432x288 with 1 Axes>"
            ],
            "image/png": "[encoded data removed]"
          },
          "metadata": {
            "needs_background": "light"
          }
        }
      ]
    },
    {
      "cell_type": "markdown",
      "source": [
        "# ■追記（岡田）\n",
        "まだでてこないけど、今後のためにそれぞれの導関数のグラフをのせておく。"
      ],
      "metadata": {
        "id": "gGD09P0rJ7tS"
      }
    },
    {
      "cell_type": "code",
      "source": [
        "import numpy as np\n",
        "import matplotlib.pylab as plt\n",
        "\n",
        "def der_sigmoid(x):\n",
        "  return sigmoid(x) * (1.0 - sigmoid(x))\n",
        "\n",
        "def der_tanh(x):\n",
        "  return 1.0 - (tanh(x) ** 2)\n",
        "\n",
        "def der_relu(x):\n",
        "    y = np.where( x > 0, 1, 0)\n",
        "    return y\n",
        "\n",
        "x = np.arange(-5.0, 5.0, 0.1)\n",
        "y1 = der_sigmoid(x)\n",
        "y2 = der_tanh(x)\n",
        "y3 = der_relu(x)\n",
        "plt.plot(x, y1, label='derivative sigmoid')\n",
        "plt.plot(x, y2, label='derivative tanh')\n",
        "plt.plot(x, y3, label='derivative ReLU')\n",
        "plt.ylim(-0.1, 1.1)\n",
        "plt.legend()\n",
        "plt.show()"
      ],
      "metadata": {
        "colab": {
          "base_uri": "https://localhost:8080/",
          "height": 265
        },
        "id": "kgCLF_gHKQC_",
        "outputId": "67692509-26b4-4882-d46d-8bf735ffb349"
      },
      "execution_count": null,
      "outputs": [
        {
          "output_type": "display_data",
          "data": {
            "text/plain": [
              "<Figure size 432x288 with 1 Axes>"
            ],
            "image/png": "[encoded data removed]"
          },
          "metadata": {
            "needs_background": "light"
          }
        }
      ]
    },
    {
      "cell_type": "markdown",
      "source": [
        "# ■追記（岡田）\n",
        "p.69 式(3.11)の補足。\n",
        "\n",
        "$C\\exp(a_k) = \\exp(a_k+\\log C)$　のところ。  \n",
        "p.69の下の例では、「最大値を減算する」ことでオーバーフローを防いでいる。  \n",
        "$+\\log C$のところを「$- max(a)$」としている。  \n",
        "\n",
        "$\\exp(a_k+\\log C) = \\exp(a_k) \\times \\exp(\\log C)$  \n",
        "はいいとして、$\\exp(\\log C)=C$なんだっけ？というところ。  \n",
        "$t=\\log C=\\log e^t$  \n",
        "$C= e^t = e^{\\log C}=\\exp(\\log C)$"
      ],
      "metadata": {
        "id": "wrZKS0oysM_F"
      }
    },
    {
      "cell_type": "markdown",
      "source": [
        "# ■追記（岡田）Colaboratory用\n",
        "Google Colaboratoryの場合、Google Driveに  \n",
        "dl-from-scratch/ch03  \n",
        "というフォルダを用意し、そこにこのjupyter notebookを配置。  \n",
        "(dl-from-scratchの部分は任意。)  \n",
        "また、datasetフォルダとcommonフォルダを\n",
        "dl-from-scratch/dataset  \n",
        "dl-from-scratch/common\n",
        "にコピーしておく。  \n",
        "\n",
        "以下のセルでGoogle Driveをマウント。許可を求められるので許可する。"
      ],
      "metadata": {
        "id": "zVk0pO8KANE9"
      }
    },
    {
      "cell_type": "code",
      "source": [
        "from google.colab import drive\n",
        "drive.mount('/content/drive')"
      ],
      "metadata": {
        "colab": {
          "base_uri": "https://localhost:8080/"
        },
        "id": "MfkwBRcp_ybD",
        "outputId": "d42b39e2-85dc-4fc7-ec48-7e2d0fc75565"
      },
      "execution_count": null,
      "outputs": [
        {
          "output_type": "stream",
          "name": "stdout",
          "text": [
            "Mounted at /content/drive\n"
          ]
        }
      ]
    },
    {
      "cell_type": "markdown",
      "source": [
        "# ■追記（岡田）Colaboratory用\n",
        "chdirする。"
      ],
      "metadata": {
        "id": "pix-gtWt26Af"
      }
    },
    {
      "cell_type": "code",
      "source": [
        "import sys,os\n",
        "os.chdir('/content/drive/My Drive/dl-from-scratch/')\n",
        "os.getcwd()"
      ],
      "metadata": {
        "colab": {
          "base_uri": "https://localhost:8080/",
          "height": 35
        },
        "id": "P7ADNIuA__e7",
        "outputId": "ccb13ba3-122d-49fa-8195-7e509874f5cf"
      },
      "execution_count": null,
      "outputs": [
        {
          "output_type": "execute_result",
          "data": {
            "text/plain": [
              "'/content/drive/My Drive/dl-from-scratch'"
            ],
            "application/vnd.google.colaboratory.intrinsic+json": {
              "type": "string"
            }
          },
          "metadata": {},
          "execution_count": 2
        }
      ]
    },
    {
      "cell_type": "markdown",
      "metadata": {
        "id": "Dy0T3Zbe042J"
      },
      "source": [
        "# ch03/mnist_show.py"
      ]
    },
    {
      "cell_type": "code",
      "execution_count": null,
      "metadata": {
        "colab": {
          "base_uri": "https://localhost:8080/"
        },
        "id": "WgOc3OT6042J",
        "outputId": "13a77318-725a-467c-ad19-0218666773fb"
      },
      "outputs": [
        {
          "output_type": "stream",
          "name": "stdout",
          "text": [
            "5\n",
            "(784,)\n",
            "(28, 28)\n"
          ]
        }
      ],
      "source": [
        "import sys, os\n",
        "sys.path.append(os.pardir)  # 親ディレクトリのファイルをインポートするための設定\n",
        "import numpy as np\n",
        "from dataset.mnist import load_mnist\n",
        "from PIL import Image\n",
        "\n",
        "\n",
        "def img_show(img):\n",
        "    pil_img = Image.fromarray(np.uint8(img))\n",
        "    pil_img.show()\n",
        "\n",
        "(x_train, t_train), (x_test, t_test) = load_mnist(flatten=True, normalize=False)\n",
        "\n",
        "img = x_train[0]\n",
        "label = t_train[0]\n",
        "print(label)  # 5\n",
        "\n",
        "print(img.shape)  # (784,)\n",
        "img = img.reshape(28, 28)  # 形状を元の画像サイズに変形\n",
        "print(img.shape)  # (28, 28)\n",
        "\n",
        "img_show(img)"
      ]
    },
    {
      "cell_type": "markdown",
      "metadata": {
        "id": "GXlyF_BS042K"
      },
      "source": [
        "# ch03/neuralnet_mnist.py"
      ]
    },
    {
      "cell_type": "markdown",
      "source": [
        "# ■追記（岡田）Colaboratory用\n",
        "chdirする。"
      ],
      "metadata": {
        "id": "Ev7Lc7jg64XI"
      }
    },
    {
      "cell_type": "code",
      "source": [
        "import sys,os\n",
        "os.chdir('/content/drive/My Drive/dl-from-scratch/ch03')\n",
        "os.getcwd()"
      ],
      "metadata": {
        "colab": {
          "base_uri": "https://localhost:8080/",
          "height": 35
        },
        "id": "5o31RlJcO36E",
        "outputId": "3d2ffb5e-542b-40e3-ef2d-bb76bdd43116"
      },
      "execution_count": null,
      "outputs": [
        {
          "output_type": "execute_result",
          "data": {
            "text/plain": [
              "'/content/drive/My Drive/dl-from-scratch/ch03'"
            ],
            "application/vnd.google.colaboratory.intrinsic+json": {
              "type": "string"
            }
          },
          "metadata": {},
          "execution_count": 4
        }
      ]
    },
    {
      "cell_type": "code",
      "execution_count": null,
      "metadata": {
        "id": "xouI2-ow042K",
        "outputId": "0dc35d73-e65d-42d9-cb55-14b2b1cb9c71",
        "colab": {
          "base_uri": "https://localhost:8080/"
        }
      },
      "outputs": [
        {
          "output_type": "stream",
          "name": "stdout",
          "text": [
            "Accuracy:0.9352\n"
          ]
        }
      ],
      "source": [
        "import sys, os\n",
        "sys.path.append(os.pardir)  # 親ディレクトリのファイルをインポートするための設定\n",
        "import numpy as np\n",
        "import pickle\n",
        "from dataset.mnist import load_mnist\n",
        "from common.functions import sigmoid, softmax\n",
        "\n",
        "\n",
        "def get_data():\n",
        "    (x_train, t_train), (x_test, t_test) = load_mnist(normalize=True, flatten=True, one_hot_label=False)\n",
        "    return x_test, t_test\n",
        "\n",
        "\n",
        "def init_network():\n",
        "    with open(\"../ch03/sample_weight.pkl\", 'rb') as f:\n",
        "        network = pickle.load(f)\n",
        "    return network\n",
        "\n",
        "\n",
        "def predict(network, x):\n",
        "    W1, W2, W3 = network['W1'], network['W2'], network['W3']\n",
        "    b1, b2, b3 = network['b1'], network['b2'], network['b3']\n",
        "\n",
        "    a1 = np.dot(x, W1) + b1\n",
        "    z1 = sigmoid(a1)\n",
        "    a2 = np.dot(z1, W2) + b2\n",
        "    z2 = sigmoid(a2)\n",
        "    a3 = np.dot(z2, W3) + b3\n",
        "    y = softmax(a3)\n",
        "\n",
        "    return y\n",
        "\n",
        "\n",
        "x, t = get_data()\n",
        "network = init_network()\n",
        "accuracy_cnt = 0\n",
        "for i in range(len(x)):\n",
        "    y = predict(network, x[i])\n",
        "    p= np.argmax(y) # 最も確率の高い要素のインデックスを取得\n",
        "    if p == t[i]:\n",
        "        accuracy_cnt += 1\n",
        "\n",
        "print(\"Accuracy:\" + str(float(accuracy_cnt) / len(x)))"
      ]
    },
    {
      "cell_type": "markdown",
      "source": [
        "# ■追記（岡田）\n",
        "p.76  \n",
        "ひとつ目の隠れ層が50個、2つ目の層が100個で、この50と100は任意の値に設定できると書いてあるが、そのように構成したネットワークをsample_weight.pklとしてここでは提供しているという意味。コードのどこかをいじると簡単に層のニューロン数を変更できるという意味ではない。  \n",
        "\n",
        "↓でshapeだけ確認する。\n",
        "\n",
        "$784(28 \\times 28) \\times 50 \\times 100 \\times 10$であることがわかる。"
      ],
      "metadata": {
        "id": "poibe5Ok1eHA"
      }
    },
    {
      "cell_type": "code",
      "source": [
        "print(network['W1'].shape)\n",
        "print(network['W2'].shape)\n",
        "print(network['W3'].shape)\n",
        "print(network['b1'].shape)\n",
        "print(network['b2'].shape)\n",
        "print(network['b3'].shape)"
      ],
      "metadata": {
        "colab": {
          "base_uri": "https://localhost:8080/"
        },
        "id": "-hVD04vo0JFa",
        "outputId": "4f2193a0-cbe3-4b13-bf2b-382419489652"
      },
      "execution_count": null,
      "outputs": [
        {
          "output_type": "stream",
          "name": "stdout",
          "text": [
            "(784, 50)\n",
            "(50, 100)\n",
            "(100, 10)\n",
            "(50,)\n",
            "(100,)\n",
            "(10,)\n"
          ]
        }
      ]
    },
    {
      "cell_type": "markdown",
      "metadata": {
        "id": "yOEyjEOW042L"
      },
      "source": [
        "# ch03/neuralnet_mnist_batch.py"
      ]
    },
    {
      "cell_type": "code",
      "execution_count": null,
      "metadata": {
        "id": "ihyl_DYW042L",
        "outputId": "66f7f6f8-d2bb-40e0-ea3c-a46517d3a6ed",
        "colab": {
          "base_uri": "https://localhost:8080/"
        }
      },
      "outputs": [
        {
          "output_type": "stream",
          "name": "stdout",
          "text": [
            "Accuracy:0.9352\n"
          ]
        }
      ],
      "source": [
        "import sys, os\n",
        "sys.path.append(os.pardir)  # 親ディレクトリのファイルをインポートするための設定\n",
        "import numpy as np\n",
        "import pickle\n",
        "from dataset.mnist import load_mnist\n",
        "from common.functions import sigmoid, softmax\n",
        "\n",
        "\n",
        "def get_data():\n",
        "    (x_train, t_train), (x_test, t_test) = load_mnist(normalize=True, flatten=True, one_hot_label=False)\n",
        "    return x_test, t_test\n",
        "\n",
        "\n",
        "def init_network():\n",
        "    with open(\"../ch03/sample_weight.pkl\", 'rb') as f:\n",
        "        network = pickle.load(f)\n",
        "    return network\n",
        "\n",
        "\n",
        "def predict(network, x):\n",
        "    w1, w2, w3 = network['W1'], network['W2'], network['W3']\n",
        "    b1, b2, b3 = network['b1'], network['b2'], network['b3']\n",
        "\n",
        "    a1 = np.dot(x, w1) + b1\n",
        "    z1 = sigmoid(a1)\n",
        "    a2 = np.dot(z1, w2) + b2\n",
        "    z2 = sigmoid(a2)\n",
        "    a3 = np.dot(z2, w3) + b3\n",
        "    y = softmax(a3)\n",
        "\n",
        "    return y\n",
        "\n",
        "\n",
        "x, t = get_data()\n",
        "network = init_network()\n",
        "\n",
        "batch_size = 100 # バッチの数\n",
        "accuracy_cnt = 0\n",
        "\n",
        "for i in range(0, len(x), batch_size):\n",
        "    x_batch = x[i:i+batch_size]\n",
        "    y_batch = predict(network, x_batch)\n",
        "    p = np.argmax(y_batch, axis=1)\n",
        "    accuracy_cnt += np.sum(p == t[i:i+batch_size])\n",
        "\n",
        "print(\"Accuracy:\" + str(float(accuracy_cnt) / len(x)))\n"
      ]
    }
  ],
  "metadata": {
    "kernelspec": {
      "display_name": "dezero:Python",
      "language": "python",
      "name": "conda-env-dezero-py"
    },
    "language_info": {
      "codemirror_mode": {
        "name": "ipython",
        "version": 3
      },
      "file_extension": ".py",
      "mimetype": "text/x-python",
      "name": "python",
      "nbconvert_exporter": "python",
      "pygments_lexer": "ipython3",
      "version": "3.11.0"
    },
    "colab": {
      "provenance": []
    }
  },
  "nbformat": 4,
  "nbformat_minor": 0
}