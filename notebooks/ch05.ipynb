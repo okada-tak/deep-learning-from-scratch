{
  "cells": [
    {
      "cell_type": "markdown",
      "source": [
        "[![Open In Colab](https://colab.research.google.com/assets/colab-badge.svg)](https://colab.research.google.com/github/okada-tak/deep-learning-from-scratch/blob/master/notebooks/ch05.ipynb)\n",
        "[![Open in SageMaker Studio Lab](https://studiolab.sagemaker.aws/studiolab.svg)](https://studiolab.sagemaker.aws/import/github/okada-tak/deep-learning-from-scratch/blob/master/notebooks/ch05.ipynb)  \n",
        "# ■ch05/xxxx.py以外は追記（岡田）\n",
        "# 5章 誤差逆伝播法 のまとめ\n",
        "- 計算グラフを用いれば、計算過程を視覚的に把握することができる。  \n",
        "- 計算グラフのノードは局所的な計算によって構成される。局所的な計算が全体の計算を構成する。  \n",
        "- 計算グラフの順伝播は、通常の計算を行う。一方、計算グラフの逆伝播によって、各ノードの微分を求めることができる。  \n",
        "　＃ 逆伝播でなぜ微分が求まる？\n",
        "- ニューラルネットワークの構成要素をレイヤとして実装することで、勾配の計算を効率的に求めることができる（誤差逆伝播法）。  \n",
        "- 数値微分と誤差逆伝播法の結果を比較することで、誤差逆伝播法の実装に誤りがないことを確認できる（勾配確認）。"
      ],
      "metadata": {
        "id": "ckNSDHY-OrQZ"
      }
    },
    {
      "cell_type": "markdown",
      "source": [
        "## 5.2 連鎖律\n",
        "逆方向の伝播では「局所的な微分」を逆方向に伝達する。"
      ],
      "metadata": {
        "id": "T5ZybHe_aDXG"
      }
    },
    {
      "cell_type": "markdown",
      "metadata": {
        "id": "KSqMVx8ROja5"
      },
      "source": [
        "# ch05/layer_naive.py"
      ]
    },
    {
      "cell_type": "code",
      "execution_count": null,
      "metadata": {
        "id": "tGpgl3NoOja8"
      },
      "outputs": [],
      "source": [
        "# 乗算レイヤ\n",
        "class MulLayer:\n",
        "    def __init__(self):\n",
        "        self.x = None\n",
        "        self.y = None\n",
        "\n",
        "    def forward(self, x, y):\n",
        "        self.x = x\n",
        "        self.y = y                \n",
        "        out = x * y\n",
        "\n",
        "        return out\n",
        "\n",
        "    def backward(self, dout):\n",
        "        dx = dout * self.y\n",
        "        dy = dout * self.x\n",
        "\n",
        "        return dx, dy\n",
        "\n",
        "# 加算レイヤ\n",
        "class AddLayer:\n",
        "    def __init__(self):\n",
        "        pass\n",
        "\n",
        "    def forward(self, x, y):\n",
        "        out = x + y\n",
        "\n",
        "        return out\n",
        "\n",
        "    def backward(self, dout):\n",
        "        dx = dout * 1\n",
        "        dy = dout * 1\n",
        "\n",
        "        return dx, dy"
      ]
    },
    {
      "cell_type": "markdown",
      "metadata": {
        "id": "KjdqG2mlOja9"
      },
      "source": [
        "# ch05/buy_apple.py"
      ]
    },
    {
      "cell_type": "code",
      "execution_count": null,
      "metadata": {
        "colab": {
          "base_uri": "https://localhost:8080/"
        },
        "id": "q6h6d3eROja-",
        "outputId": "f699649a-6bd6-47ef-fd64-54bae6185c17"
      },
      "outputs": [
        {
          "output_type": "stream",
          "name": "stdout",
          "text": [
            "price: 220\n",
            "dApple: 2.2\n",
            "dApple_num: 110\n",
            "dTax: 200\n"
          ]
        }
      ],
      "source": [
        "# p.138\n",
        "#\n",
        "# 100円 --X--X--\n",
        "# 2個   --|  |\n",
        "#            |\n",
        "# 消費税1.1--|\n",
        "#\n",
        "apple = 100\n",
        "apple_num = 2\n",
        "tax = 1.1\n",
        "\n",
        "mul_apple_layer = MulLayer()\n",
        "mul_tax_layer = MulLayer()\n",
        "\n",
        "# forward\n",
        "apple_price = mul_apple_layer.forward(apple, apple_num)\n",
        "price = mul_tax_layer.forward(apple_price, tax)\n",
        "\n",
        "# backward\n",
        "dprice = 1\n",
        "dapple_price, dtax = mul_tax_layer.backward(dprice)\n",
        "dapple, dapple_num = mul_apple_layer.backward(dapple_price)\n",
        "\n",
        "print(\"price:\", int(price))\n",
        "print(\"dApple:\", dapple)\n",
        "print(\"dApple_num:\", int(dapple_num))\n",
        "print(\"dTax:\", dtax)"
      ]
    },
    {
      "cell_type": "markdown",
      "metadata": {
        "id": "eyDmDV2YOja_"
      },
      "source": [
        "# ch05/buy_apple_orange.py"
      ]
    },
    {
      "cell_type": "code",
      "execution_count": null,
      "metadata": {
        "colab": {
          "base_uri": "https://localhost:8080/"
        },
        "id": "bIBUzKsXOja_",
        "outputId": "c3373b0f-7dcc-4599-b0bf-578c1fbaa458"
      },
      "outputs": [
        {
          "output_type": "stream",
          "name": "stdout",
          "text": [
            "price: 715\n",
            "dApple: 2.2\n",
            "dApple_num: 110\n",
            "dOrange: 3.3000000000000003\n",
            "dOrange_num: 165\n",
            "dTax: 650\n"
          ]
        }
      ],
      "source": [
        "# p.140\n",
        "#\n",
        "# リンゴ\n",
        "# 100円 --X--+--X--\n",
        "# 2個   --|  |  |\n",
        "#            |  |\n",
        "# オレンジ   |  |\n",
        "# 150円 --X--|  |\n",
        "# 3個   --|     |\n",
        "#               |\n",
        "#               |\n",
        "# 消費税1.1-----|\n",
        "#\n",
        "apple = 100\n",
        "apple_num = 2\n",
        "orange = 150\n",
        "orange_num = 3\n",
        "tax = 1.1\n",
        "\n",
        "# layer\n",
        "mul_apple_layer = MulLayer()\n",
        "mul_orange_layer = MulLayer()\n",
        "add_apple_orange_layer = AddLayer()\n",
        "mul_tax_layer = MulLayer()\n",
        "\n",
        "# forward\n",
        "apple_price = mul_apple_layer.forward(apple, apple_num)  # (1)\n",
        "orange_price = mul_orange_layer.forward(orange, orange_num)  # (2)\n",
        "all_price = add_apple_orange_layer.forward(apple_price, orange_price)  # (3)\n",
        "price = mul_tax_layer.forward(all_price, tax)  # (4)\n",
        "\n",
        "# backward\n",
        "dprice = 1\n",
        "dall_price, dtax = mul_tax_layer.backward(dprice)  # (4)\n",
        "dapple_price, dorange_price = add_apple_orange_layer.backward(dall_price)  # (3)\n",
        "dorange, dorange_num = mul_orange_layer.backward(dorange_price)  # (2)\n",
        "dapple, dapple_num = mul_apple_layer.backward(dapple_price)  # (1)\n",
        "\n",
        "print(\"price:\", int(price))\n",
        "print(\"dApple:\", dapple)\n",
        "print(\"dApple_num:\", int(dapple_num))\n",
        "print(\"dOrange:\", dorange)\n",
        "print(\"dOrange_num:\", int(dorange_num))\n",
        "print(\"dTax:\", dtax)\n"
      ]
    },
    {
      "cell_type": "markdown",
      "source": [
        "## 5.5.1 ReLUレイヤ"
      ],
      "metadata": {
        "id": "mQlT4uApiXat"
      }
    },
    {
      "cell_type": "code",
      "source": [
        "# p.142\n",
        "import numpy as np\n",
        "\n",
        "x = np.array( [[1.0, -0.5], [-2.0, 3.0]])\n",
        "print(x)"
      ],
      "metadata": {
        "colab": {
          "base_uri": "https://localhost:8080/"
        },
        "id": "yBqq5_nzcWBu",
        "outputId": "16661331-5970-43c9-dbe5-77229b30f0c9"
      },
      "execution_count": null,
      "outputs": [
        {
          "output_type": "stream",
          "name": "stdout",
          "text": [
            "[[ 1.  -0.5]\n",
            " [-2.   3. ]]\n"
          ]
        }
      ]
    },
    {
      "cell_type": "code",
      "source": [
        "mask = (x <= 0)\n",
        "print(mask)"
      ],
      "metadata": {
        "colab": {
          "base_uri": "https://localhost:8080/"
        },
        "id": "xDjBQVm7ctua",
        "outputId": "c2a12e39-2305-4733-dc8a-b58fedac6c52"
      },
      "execution_count": null,
      "outputs": [
        {
          "output_type": "stream",
          "name": "stdout",
          "text": [
            "[[False  True]\n",
            " [ True False]]\n"
          ]
        }
      ]
    },
    {
      "cell_type": "markdown",
      "source": [
        "## 5.6.1 Affineレイヤ"
      ],
      "metadata": {
        "id": "KaKNVydeidnt"
      }
    },
    {
      "cell_type": "code",
      "source": [
        "# p.147\n",
        "import numpy as np\n",
        "\n",
        "X = np.random.rand(2)\n",
        "W = np.random.rand(2,3)\n",
        "B = np.random.rand(3)\n",
        "\n",
        "X.shape\n",
        "W.shape\n",
        "B.shape\n",
        "\n",
        "Y = np.dot(X, W) + B"
      ],
      "metadata": {
        "id": "_Q8jOy_ktvez"
      },
      "execution_count": null,
      "outputs": []
    },
    {
      "cell_type": "code",
      "source": [
        "# p.147のおまけ\n",
        "import numpy as np\n",
        "\n",
        "X = np.random.rand(2)\n",
        "W = np.random.rand(3,2)\n",
        "B = np.random.rand(3)"
      ],
      "metadata": {
        "id": "S4CTzT6BuKyp"
      },
      "execution_count": null,
      "outputs": []
    },
    {
      "cell_type": "code",
      "source": [
        "Y = np.dot(W, X)\n",
        "print(Y)"
      ],
      "metadata": {
        "colab": {
          "base_uri": "https://localhost:8080/"
        },
        "id": "YIaGvGBvUOMl",
        "outputId": "3371c84f-62be-4a4a-ee1d-25b89eb181f4"
      },
      "execution_count": null,
      "outputs": [
        {
          "output_type": "stream",
          "name": "stdout",
          "text": [
            "[0.78680389 0.89022726 0.80685978]\n"
          ]
        }
      ]
    },
    {
      "cell_type": "markdown",
      "source": [
        "p.147  \n",
        "X.shape (2,)と\n",
        "W.shape (2, 3)の行列積がとれるのはなぜ？\n",
        "\n",
        "(2,)は、2「行」n「列」を意味しない。要素数「2」というだけ。  \n",
        "\n",
        "p.57-58の3.3.3にも説明あり。"
      ],
      "metadata": {
        "id": "mzcDy54jV0mv"
      }
    },
    {
      "cell_type": "markdown",
      "source": [
        "p.148 式(5.13)の導出  \n",
        "1データ版Affineレイヤの逆伝播の導出【ゼロつく1のノート(数学)】  \n",
        "https://www.anarchive-beta.com/entry/2020/08/03/180000\n",
        "\n",
        "バッチデータ版Affineレイヤの逆伝播の導出【ゼロつく1のノート(数学)】  \n",
        "https://www.anarchive-beta.com/entry/2020/08/04/180000\n"
      ],
      "metadata": {
        "id": "0ttpyhq-ZPZd"
      }
    },
    {
      "cell_type": "markdown",
      "source": [
        "★p.155の鳥マークの注釈  \n",
        "さらっと大事なことが書いてある。  \n",
        "・「ソフトマックス関数」の損失関数として「交差エントロピー誤差」を使う理由。  \n",
        "$$\n",
        "E=-\\sum_k t_k \\log{y_k}\n",
        "$$\n",
        "・「恒等関数」の損失関数として「2乗和誤差」を使う理由。  \n",
        "$$\n",
        "E=\\frac{1}{2}\\sum_k (y_k-t_k)^2\n",
        "$$\n",
        "いずれも逆伝播が$(y_1-t_1, y_2-t_2, y_3-t_3)$という、出力と教師ラベルの差という簡潔な形になるから。  \n",
        "p.278～の付録A.2で交差エントロピー誤差についての導出が書かれている。  \n",
        "\n",
        "感想：説明されれば、おお！と思うがそうなるように損失関数を設計する方法（どうやって考えつくの？）がわからない。"
      ],
      "metadata": {
        "id": "ZkfUaL91baQq"
      }
    },
    {
      "cell_type": "markdown",
      "source": [
        "# ■追記（岡田）Colaboratory用\n",
        "Google Colaboratoryの場合、Google Driveに  \n",
        "dl-from-scratch/ch05  \n",
        "というフォルダを用意し、そこにこのjupyter notebookを配置。  \n",
        "(dl-from-scratchの部分は任意。)  \n",
        "また、datasetフォルダとcommonフォルダを\n",
        "dl-from-scratch/dataset  \n",
        "dl-from-scratch/common\n",
        "にコピーしておく。  \n",
        "\n",
        "以下のセルでGoogle Driveをマウント。許可を求められるので許可する。"
      ],
      "metadata": {
        "id": "bAN74CQGlIq3"
      }
    },
    {
      "cell_type": "code",
      "source": [
        "from google.colab import drive\n",
        "drive.mount('/content/drive')"
      ],
      "metadata": {
        "colab": {
          "base_uri": "https://localhost:8080/"
        },
        "id": "AnjCkmJ4k3Eu",
        "outputId": "b473429b-7355-4280-c003-bba18acee875"
      },
      "execution_count": null,
      "outputs": [
        {
          "output_type": "stream",
          "name": "stdout",
          "text": [
            "Mounted at /content/drive\n"
          ]
        }
      ]
    },
    {
      "cell_type": "markdown",
      "source": [
        "# ■追記（岡田）Colaboratory用\n",
        "chdirする。"
      ],
      "metadata": {
        "id": "7hvO60aYlQy_"
      }
    },
    {
      "cell_type": "code",
      "source": [
        "import sys,os\n",
        "os.chdir('/content/drive/My Drive/dl-from-scratch/')\n",
        "os.getcwd()"
      ],
      "metadata": {
        "colab": {
          "base_uri": "https://localhost:8080/",
          "height": 35
        },
        "id": "BAxDdYj8lBax",
        "outputId": "a86935cc-9f33-44e6-99b7-86f202065872"
      },
      "execution_count": null,
      "outputs": [
        {
          "output_type": "execute_result",
          "data": {
            "text/plain": [
              "'/content/drive/My Drive/dl-from-scratch'"
            ],
            "application/vnd.google.colaboratory.intrinsic+json": {
              "type": "string"
            }
          },
          "metadata": {},
          "execution_count": 2
        }
      ]
    },
    {
      "cell_type": "markdown",
      "metadata": {
        "id": "MjTIGlUpOjbA"
      },
      "source": [
        "# ch05/two_layer_net.py"
      ]
    },
    {
      "cell_type": "markdown",
      "source": [
        "p.113～ 4.5.1のTowLayerNetでは、np.dot+b, sigmoid, np.dot+b, softmaxの層構成だった。  \n",
        "ここでは、sigmoidではなくReluにしている。  \n",
        "また、p.153の図5-28はAffine, ReLU, Affine, ReLU, Affine, Softmaxで説明していて、1層おおい。  \n",
        "（Affineはnp.dot+bと同じ。）  \n",
        "↓のTwoLayerNetは、Affine, Relu, Affine, Softmaxの構成。"
      ],
      "metadata": {
        "id": "wQaxxKyp_2Vc"
      }
    },
    {
      "cell_type": "code",
      "execution_count": null,
      "metadata": {
        "id": "aq6SuQAMOjbA"
      },
      "outputs": [],
      "source": [
        "import sys, os\n",
        "sys.path.append(os.pardir)  # 親ディレクトリのファイルをインポートするための設定\n",
        "import numpy as np\n",
        "from common.layers import *\n",
        "from common.gradient import numerical_gradient\n",
        "from collections import OrderedDict\n",
        "\n",
        "\n",
        "\n",
        "class TwoLayerNet:\n",
        "    def __init__(self, input_size, hidden_size, output_size, weight_init_std = 0.01):\n",
        "        # 重みの初期化\n",
        "        self.params = {}\n",
        "        self.params['W1'] = weight_init_std * np.random.randn(input_size, hidden_size)\n",
        "        self.params['b1'] = np.zeros(hidden_size)\n",
        "        self.params['W2'] = weight_init_std * np.random.randn(hidden_size, output_size) \n",
        "        self.params['b2'] = np.zeros(output_size)\n",
        "\n",
        "        # レイヤの生成\n",
        "        self.layers = OrderedDict()\n",
        "        self.layers['Affine1'] = Affine(self.params['W1'], self.params['b1'])\n",
        "        self.layers['Relu1'] = Relu()\n",
        "        self.layers['Affine2'] = Affine(self.params['W2'], self.params['b2'])\n",
        "\n",
        "        self.lastLayer = SoftmaxWithLoss()\n",
        "        \n",
        "    def predict(self, x):\n",
        "        for layer in self.layers.values():\n",
        "            x = layer.forward(x)\n",
        "        \n",
        "        return x\n",
        "        \n",
        "    # x:入力データ, t:教師データ\n",
        "    def loss(self, x, t):\n",
        "        y = self.predict(x)\n",
        "        return self.lastLayer.forward(y, t)\n",
        "    \n",
        "    def accuracy(self, x, t):\n",
        "        y = self.predict(x)\n",
        "        y = np.argmax(y, axis=1)\n",
        "        if t.ndim != 1 : t = np.argmax(t, axis=1)\n",
        "        \n",
        "        accuracy = np.sum(y == t) / float(x.shape[0])\n",
        "        return accuracy\n",
        "        \n",
        "    # x:入力データ, t:教師データ\n",
        "    def numerical_gradient(self, x, t):\n",
        "        loss_W = lambda W: self.loss(x, t)\n",
        "        \n",
        "        grads = {}\n",
        "        grads['W1'] = numerical_gradient(loss_W, self.params['W1'])\n",
        "        grads['b1'] = numerical_gradient(loss_W, self.params['b1'])\n",
        "        grads['W2'] = numerical_gradient(loss_W, self.params['W2'])\n",
        "        grads['b2'] = numerical_gradient(loss_W, self.params['b2'])\n",
        "        \n",
        "        return grads\n",
        "        \n",
        "    def gradient(self, x, t):\n",
        "        # forward\n",
        "        self.loss(x, t)\n",
        "\n",
        "        # backward\n",
        "        dout = 1\n",
        "        dout = self.lastLayer.backward(dout)\n",
        "        \n",
        "        layers = list(self.layers.values())\n",
        "        layers.reverse()\n",
        "        for layer in layers:\n",
        "            dout = layer.backward(dout)\n",
        "\n",
        "        # 設定\n",
        "        grads = {}\n",
        "        grads['W1'], grads['b1'] = self.layers['Affine1'].dW, self.layers['Affine1'].db\n",
        "        grads['W2'], grads['b2'] = self.layers['Affine2'].dW, self.layers['Affine2'].db\n",
        "\n",
        "        return grads"
      ]
    },
    {
      "cell_type": "markdown",
      "source": [
        "↑のコードのgradientのところ。  \n",
        "\n",
        "lossを計算する。  \n",
        "　predictでOrderedDictの順にforwardを実行。(Affine, ReLU, Affine)  \n",
        "　最後にlastLayer(SoftmaxWithLoss)のforwardを実行。  \n",
        "■ここから逆伝播  \n",
        "lastLayer(SoftmaxWithLoss)の微分(dout)を計算し、  \n",
        "以降はOrderedDictに積んだ逆順でdoutを計算していく。  \n",
        "最後に１層２層の重み(W1, W2)、バイアス(b1, b2)を更新する。  \n",
        "W1,W2とか書き下しているのはわかりやすくするためだと思われる。  \n",
        "10層, 100層などになればループで回したりするのだろう。"
      ],
      "metadata": {
        "id": "Ue4Da51cf7R9"
      }
    },
    {
      "cell_type": "markdown",
      "metadata": {
        "id": "LZ54VSzTOjbB"
      },
      "source": [
        "# ch05/gradient_check.py"
      ]
    },
    {
      "cell_type": "code",
      "execution_count": null,
      "metadata": {
        "id": "uBV-OWdEOjbC",
        "outputId": "3724003c-00b9-4d72-a740-e0c2015178b3",
        "colab": {
          "base_uri": "https://localhost:8080/"
        }
      },
      "outputs": [
        {
          "output_type": "stream",
          "name": "stdout",
          "text": [
            "W1:3.9197367159310613e-10\n",
            "b1:2.135368406556894e-09\n",
            "W2:5.264271249327249e-09\n",
            "b2:1.4032852126283358e-07\n"
          ]
        }
      ],
      "source": [
        "import sys, os\n",
        "sys.path.append(os.pardir)  # 親ディレクトリのファイルをインポートするための設定\n",
        "import numpy as np\n",
        "from dataset.mnist import load_mnist\n",
        "\n",
        "# データの読み込み\n",
        "(x_train, t_train), (x_test, t_test) = load_mnist(normalize=True, one_hot_label=True)\n",
        "\n",
        "network = TwoLayerNet(input_size=784, hidden_size=50, output_size=10)\n",
        "\n",
        "x_batch = x_train[:3]\n",
        "t_batch = t_train[:3]\n",
        "\n",
        "grad_numerical = network.numerical_gradient(x_batch, t_batch)\n",
        "grad_backprop = network.gradient(x_batch, t_batch)\n",
        "\n",
        "for key in grad_numerical.keys():\n",
        "    diff = np.average( np.abs(grad_backprop[key] - grad_numerical[key]) )\n",
        "    print(key + \":\" + str(diff))"
      ]
    },
    {
      "cell_type": "markdown",
      "metadata": {
        "id": "zlup3SgAOjbC"
      },
      "source": [
        "# ch05/train_neuralnet.py"
      ]
    },
    {
      "cell_type": "code",
      "execution_count": null,
      "metadata": {
        "id": "Tv4r-P4aOjbC",
        "outputId": "05a197a3-1c61-49a5-b962-a0a28f4737b0",
        "colab": {
          "base_uri": "https://localhost:8080/"
        }
      },
      "outputs": [
        {
          "output_type": "stream",
          "name": "stdout",
          "text": [
            "0.11601666666666667 0.1129\n",
            "0.9069166666666667 0.9078\n",
            "0.9223666666666667 0.9245\n",
            "0.9371 0.9367\n",
            "0.9459 0.9421\n",
            "0.95115 0.9506\n",
            "0.9552666666666667 0.9517\n",
            "0.9591333333333333 0.9541\n",
            "0.9629833333333333 0.9583\n",
            "0.9662333333333334 0.9592\n",
            "0.9692333333333333 0.9621\n",
            "0.9706666666666667 0.9643\n",
            "0.9731333333333333 0.9661\n",
            "0.97475 0.9666\n",
            "0.9759666666666666 0.9661\n",
            "0.9774166666666667 0.9683\n",
            "0.9787 0.9686\n"
          ]
        }
      ],
      "source": [
        "import sys, os\n",
        "sys.path.append(os.pardir)\n",
        "\n",
        "import numpy as np\n",
        "from dataset.mnist import load_mnist\n",
        "\n",
        "# データの読み込み\n",
        "(x_train, t_train), (x_test, t_test) = load_mnist(normalize=True, one_hot_label=True)\n",
        "\n",
        "network = TwoLayerNet(input_size=784, hidden_size=50, output_size=10)\n",
        "\n",
        "iters_num = 10000\n",
        "train_size = x_train.shape[0]\n",
        "batch_size = 100\n",
        "learning_rate = 0.1\n",
        "\n",
        "train_loss_list = []\n",
        "train_acc_list = []\n",
        "test_acc_list = []\n",
        "\n",
        "iter_per_epoch = max(train_size / batch_size, 1)\n",
        "\n",
        "for i in range(iters_num):\n",
        "    batch_mask = np.random.choice(train_size, batch_size)\n",
        "    x_batch = x_train[batch_mask]\n",
        "    t_batch = t_train[batch_mask]\n",
        "    \n",
        "    # 勾配\n",
        "    #grad = network.numerical_gradient(x_batch, t_batch)\n",
        "    grad = network.gradient(x_batch, t_batch)\n",
        "    \n",
        "    # 更新\n",
        "    for key in ('W1', 'b1', 'W2', 'b2'):\n",
        "        network.params[key] -= learning_rate * grad[key]\n",
        "    \n",
        "    loss = network.loss(x_batch, t_batch)\n",
        "    train_loss_list.append(loss)\n",
        "    \n",
        "    if i % iter_per_epoch == 0:\n",
        "        train_acc = network.accuracy(x_train, t_train)\n",
        "        test_acc = network.accuracy(x_test, t_test)\n",
        "        train_acc_list.append(train_acc)\n",
        "        test_acc_list.append(test_acc)\n",
        "        print(train_acc, test_acc)\n"
      ]
    },
    {
      "cell_type": "markdown",
      "source": [
        "一応、グラフを描いてみる。"
      ],
      "metadata": {
        "id": "O8tJzjoUh2vA"
      }
    },
    {
      "cell_type": "code",
      "source": [
        "import matplotlib.pyplot as plt\n",
        "\n",
        "# グラフの描画\n",
        "markers = {'train': 'o', 'test': 's'}\n",
        "x = np.arange(len(train_acc_list))\n",
        "plt.plot(x, train_acc_list, label='train acc')\n",
        "plt.plot(x, test_acc_list, label='test acc', linestyle='--')\n",
        "plt.xlabel(\"epochs\")\n",
        "plt.ylabel(\"accuracy\")\n",
        "plt.ylim(0, 1.0)\n",
        "plt.legend(loc='lower right')\n",
        "plt.show()"
      ],
      "metadata": {
        "colab": {
          "base_uri": "https://localhost:8080/",
          "height": 283
        },
        "id": "5QKJFuidgxW2",
        "outputId": "172575c5-8188-4c2d-9618-1687245d1880"
      },
      "execution_count": null,
      "outputs": [
        {
          "output_type": "display_data",
          "data": {
            "text/plain": [
              "<Figure size 432x288 with 1 Axes>"
            ],
            "image/png": "[encoded data removed]"
          },
          "metadata": {
            "needs_background": "light"
          }
        }
      ]
    }
  ],
  "metadata": {
    "kernelspec": {
      "display_name": "Python 3",
      "name": "python3"
    },
    "language_info": {
      "name": "python"
    },
    "colab": {
      "provenance": []
    },
    "gpuClass": "standard"
  },
  "nbformat": 4,
  "nbformat_minor": 0
}