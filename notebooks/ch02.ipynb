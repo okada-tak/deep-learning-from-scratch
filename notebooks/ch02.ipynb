{
  "cells": [
    {
      "cell_type": "markdown",
      "metadata": {
        "id": "C4WvDxcXsygH"
      },
      "source": [
        "[![Open In Colab](https://colab.research.google.com/assets/colab-badge.svg)](https://colab.research.google.com/github/okada-tak/deep-learning-from-scratch/blob/master/notebooks/ch02.ipynb)\n",
        "[![Open in SageMaker Studio Lab](https://studiolab.sagemaker.aws/studiolab.svg)](https://studiolab.sagemaker.aws/import/github/okada-tak/deep-learning-from-scratch/blob/master/notebooks/ch02.ipynb)  \n",
        "# ■追記（岡田）\n",
        "# 注意：Anacondaの利用について\n",
        "p.3 1.2.3でAnacondaの利用が推奨されていますが、本書執筆後の2020/4/30に基本的に有償化されました。個人のPCにインストールして勉強目的のみで利用するならよさそうですが、社給PCへのインストールは行わないでください。  \n",
        "https://qiita.com/tfukumori/items/f8fc2c53077b234384fc  \n",
        "# 2章 パーセプトロン のまとめ\n",
        "- パーセプトロンは入出力を備えたアルゴリズムである。ある入力を与えたら、決まった値が出力される。  \n",
        "- パーセプトロンでは、「重み」と「バイアス」をパラメータとして設定する。  \n",
        "- パーセプトロンを用いれば、ANDやORゲートなどの論理回路を表現できる。  \n",
        "- XORゲートは単層のパーセプトロンでは表現できない。  \n",
        "- 2層のパーセプトロンを用いれば、XORゲートを表現することができる。  \n",
        "- 単層のパーセプトロンは線形領域だけしか表現できないのに対して、多層のパーセプトロンは非線形領域を表現することができる。  \n",
        "- 多層のパーセプトロンは、（理論上）コンピュータを表現できる。  \n",
        "　注：ここに飛躍があってわかりづらい。p.35-36の  \n",
        "　　　「NANDゲートの組み合わせでコンピュータがつくれる」  \n",
        "　　　「NANDゲートは単層のパーセプトロンで表現できる」  \n",
        "　　　これと非線形領域の表現、  \n",
        "　　　「活性化関数に非線形な関数を用いれば2層のパーセプトロンで任意の関数を表現できる」  \n",
        "　　　の関係がわかりづらい。"
      ]
    },
    {
      "cell_type": "markdown",
      "metadata": {
        "id": "jVkC9ngfsygJ"
      },
      "source": [
        "# ch02/and_gate.py"
      ]
    },
    {
      "cell_type": "code",
      "execution_count": null,
      "metadata": {
        "id": "xoG20_dksygJ",
        "outputId": "a5352b08-6e07-45ec-bc8d-1d0f8080df21",
        "colab": {
          "base_uri": "https://localhost:8080/"
        }
      },
      "outputs": [
        {
          "output_type": "stream",
          "name": "stdout",
          "text": [
            "(0, 0) -> 0\n",
            "(1, 0) -> 0\n",
            "(0, 1) -> 0\n",
            "(1, 1) -> 1\n"
          ]
        }
      ],
      "source": [
        "import numpy as np\n",
        "\n",
        "\n",
        "def AND(x1, x2):\n",
        "    x = np.array([x1, x2])\n",
        "    w = np.array([0.5, 0.5])\n",
        "    b = -0.7\n",
        "    tmp = np.sum(w*x) + b\n",
        "    if tmp <= 0:\n",
        "        return 0\n",
        "    else:\n",
        "        return 1\n",
        "\n",
        "if __name__ == '__main__':\n",
        "    for xs in [(0, 0), (1, 0), (0, 1), (1, 1)]:\n",
        "        y = AND(xs[0], xs[1])\n",
        "        print(str(xs) + \" -> \" + str(y))"
      ]
    },
    {
      "cell_type": "markdown",
      "metadata": {
        "id": "iYB8Uya9sygL"
      },
      "source": [
        "# ch02/nand_gate.py"
      ]
    },
    {
      "cell_type": "code",
      "execution_count": null,
      "metadata": {
        "id": "vxY-mHZQsygL",
        "outputId": "08dae414-b4b3-4863-f4c8-fbd5a57e6694",
        "colab": {
          "base_uri": "https://localhost:8080/"
        }
      },
      "outputs": [
        {
          "output_type": "stream",
          "name": "stdout",
          "text": [
            "(0, 0) -> 1\n",
            "(1, 0) -> 1\n",
            "(0, 1) -> 1\n",
            "(1, 1) -> 0\n"
          ]
        }
      ],
      "source": [
        "import numpy as np\n",
        "\n",
        "\n",
        "def NAND(x1, x2):\n",
        "    x = np.array([x1, x2])\n",
        "    w = np.array([-0.5, -0.5])\n",
        "    b = 0.7\n",
        "    tmp = np.sum(w*x) + b\n",
        "    if tmp <= 0:\n",
        "        return 0\n",
        "    else:\n",
        "        return 1\n",
        "\n",
        "if __name__ == '__main__':\n",
        "    for xs in [(0, 0), (1, 0), (0, 1), (1, 1)]:\n",
        "        y = NAND(xs[0], xs[1])\n",
        "        print(str(xs) + \" -> \" + str(y))\n"
      ]
    },
    {
      "cell_type": "markdown",
      "metadata": {
        "id": "AYPndmJ4sygM"
      },
      "source": [
        "# ch02/or_gate.py"
      ]
    },
    {
      "cell_type": "code",
      "execution_count": null,
      "metadata": {
        "id": "v72UheL6sygM",
        "outputId": "8b1c62d4-23b9-4ac3-a897-71ffe43ebd17",
        "colab": {
          "base_uri": "https://localhost:8080/"
        }
      },
      "outputs": [
        {
          "output_type": "stream",
          "name": "stdout",
          "text": [
            "(0, 0) -> 0\n",
            "(1, 0) -> 1\n",
            "(0, 1) -> 1\n",
            "(1, 1) -> 1\n"
          ]
        }
      ],
      "source": [
        "import numpy as np\n",
        "\n",
        "\n",
        "def OR(x1, x2):\n",
        "    x = np.array([x1, x2])\n",
        "    w = np.array([0.5, 0.5])\n",
        "    b = -0.2\n",
        "    tmp = np.sum(w*x) + b\n",
        "    if tmp <= 0:\n",
        "        return 0\n",
        "    else:\n",
        "        return 1\n",
        "\n",
        "if __name__ == '__main__':\n",
        "    for xs in [(0, 0), (1, 0), (0, 1), (1, 1)]:\n",
        "        y = OR(xs[0], xs[1])\n",
        "        print(str(xs) + \" -> \" + str(y))"
      ]
    },
    {
      "cell_type": "markdown",
      "metadata": {
        "id": "blzzkSV8sygM"
      },
      "source": [
        "# ■追記（岡田）\n",
        "# XORゲート\n",
        "$s_1$ = NAND$(x_1, x_2)$  \n",
        "$s_2$ = OR$(x_1, x_2)$  \n",
        "$y$ = AND$(s_1, s_2)$\n",
        "\n",
        "|$x_1$|$x_2$|$s_1$|$s_2$|$y$|\n",
        "|---|---|---|---|---|\n",
        "|0|0|1|0|0|\n",
        "|1|0|1|1|1|\n",
        "|0|1|1|1|1|\n",
        "|1|1|0|1|0|"
      ]
    },
    {
      "cell_type": "markdown",
      "metadata": {
        "id": "gd8Dn0-csygN"
      },
      "source": [
        "# ch02/xor_gate.py"
      ]
    },
    {
      "cell_type": "code",
      "execution_count": null,
      "metadata": {
        "id": "VDA8h4_qsygN",
        "outputId": "985a50d3-bd78-4fb7-f85e-e19a3612ebc3",
        "colab": {
          "base_uri": "https://localhost:8080/"
        }
      },
      "outputs": [
        {
          "output_type": "stream",
          "name": "stdout",
          "text": [
            "(0, 0) -> 0\n",
            "(1, 0) -> 1\n",
            "(0, 1) -> 1\n",
            "(1, 1) -> 0\n"
          ]
        }
      ],
      "source": [
        "def XOR(x1, x2):\n",
        "    s1 = NAND(x1, x2)\n",
        "    s2 = OR(x1, x2)\n",
        "    y = AND(s1, s2)\n",
        "    return y\n",
        "\n",
        "if __name__ == '__main__':\n",
        "    for xs in [(0, 0), (1, 0), (0, 1), (1, 1)]:\n",
        "        y = XOR(xs[0], xs[1])\n",
        "        print(str(xs) + \" -> \" + str(y))"
      ]
    },
    {
      "cell_type": "markdown",
      "source": [
        "# ■以下全部追記（岡田）\n",
        "# NANDで他の論理回路(NOT, OR, AND, XOR)をつくる\n",
        "図は、以下参照。  \n",
        "https://nitomath.hatenablog.jp/entry/2020/08/13/215947"
      ],
      "metadata": {
        "id": "0K9-uMMh6me5"
      }
    },
    {
      "cell_type": "code",
      "source": [
        "def NOT2(x1):\n",
        "    y = NAND(x1, x1) # 同じものをいれれば反転する\n",
        "    return y\n",
        "\n",
        "print(NOT2(0))\n",
        "print(NOT2(1))"
      ],
      "metadata": {
        "colab": {
          "base_uri": "https://localhost:8080/"
        },
        "id": "IB51a0Fv4VJA",
        "outputId": "4af77c4c-0b12-4a14-ebc2-d226e275f953"
      },
      "execution_count": null,
      "outputs": [
        {
          "output_type": "stream",
          "name": "stdout",
          "text": [
            "1\n",
            "0\n"
          ]
        }
      ]
    },
    {
      "cell_type": "code",
      "source": [
        "def OR2(x1, x2):\n",
        "#    s1 = NOT2(x1)\n",
        "#    s2 = NOT2(x2)\n",
        "    s1 = NAND(x1, x1) # A or B = NOT( AND( NOT(A), NOT(B))))\n",
        "    s2 = NAND(x2, x2)\n",
        "    y = NAND(s1, s2)\n",
        "    return y\n",
        "\n",
        "if __name__ == '__main__':\n",
        "    for xs in [(0, 0), (1, 0), (0, 1), (1, 1)]:\n",
        "        y = OR2(xs[0], xs[1])\n",
        "        print(str(xs) + \" -> \" + str(y))"
      ],
      "metadata": {
        "colab": {
          "base_uri": "https://localhost:8080/"
        },
        "id": "FWjuEYGB614F",
        "outputId": "d98d3218-af08-450e-e8fb-63a1a047d888"
      },
      "execution_count": null,
      "outputs": [
        {
          "output_type": "stream",
          "name": "stdout",
          "text": [
            "(0, 0) -> 0\n",
            "(1, 0) -> 1\n",
            "(0, 1) -> 1\n",
            "(1, 1) -> 1\n"
          ]
        }
      ]
    },
    {
      "cell_type": "code",
      "source": [
        "def AND2(x1, x2):\n",
        "#    y = NOT2(NAND(x1, x2))\n",
        "    y = NAND(NAND(x1, x2), NAND(x1, x2))\n",
        "    return y\n",
        "\n",
        "if __name__ == '__main__':\n",
        "    for xs in [(0, 0), (1, 0), (0, 1), (1, 1)]:\n",
        "        y = AND(xs[0], xs[1])\n",
        "        print(str(xs) + \" -> \" + str(y))"
      ],
      "metadata": {
        "colab": {
          "base_uri": "https://localhost:8080/"
        },
        "id": "rwZbOaYg7IIR",
        "outputId": "7eb528e8-4c8d-4348-c5ff-462474f12308"
      },
      "execution_count": null,
      "outputs": [
        {
          "output_type": "stream",
          "name": "stdout",
          "text": [
            "(0, 0) -> 0\n",
            "(1, 0) -> 0\n",
            "(0, 1) -> 0\n",
            "(1, 1) -> 1\n"
          ]
        }
      ]
    },
    {
      "cell_type": "code",
      "source": [
        "def XOR2(x1, x2):\n",
        "#    s1 = NAND(x1, x2)\n",
        "#    s2 = OR(x1, x2)\n",
        "#    y = AND(s1, s2)\n",
        "    s1 = NAND(x1, x2)\n",
        "    s2 = NAND(NAND(x1, x1), NAND(x2, x2))\n",
        "    y = NAND(NAND(s1, s2), NAND(s1, s2))\n",
        "    return y\n",
        "\n",
        "if __name__ == '__main__':\n",
        "    for xs in [(0, 0), (1, 0), (0, 1), (1, 1)]:\n",
        "        y = XOR(xs[0], xs[1])\n",
        "        print(str(xs) + \" -> \" + str(y))"
      ],
      "metadata": {
        "colab": {
          "base_uri": "https://localhost:8080/"
        },
        "id": "tnIq63vk7k8h",
        "outputId": "ae76585f-59cd-496e-f60d-714c55aa06fb"
      },
      "execution_count": null,
      "outputs": [
        {
          "output_type": "stream",
          "name": "stdout",
          "text": [
            "(0, 0) -> 0\n",
            "(1, 0) -> 1\n",
            "(0, 1) -> 1\n",
            "(1, 1) -> 0\n"
          ]
        }
      ]
    },
    {
      "cell_type": "markdown",
      "metadata": {
        "id": "P2PyRUnQudHv"
      },
      "source": [
        "最後にANDでなくORでXORをつくるケース  \n",
        "\n",
        "|$A$|$B$|$\\overline{B}$|$A$・$\\overline{B}$|$\\overline{A}$|$\\overline{A}$・$B$|$A$・$\\overline{B}$+$\\overline{A}$・$B$|\n",
        "|:---:|:---:|:---:|:---:|:---:|:---:|:---:|\n",
        "|0|0|1|0|1|0|0|\n",
        "|1|0|1|1|0|0|1|\n",
        "|0|1|0|0|1|1|1|\n",
        "|1|1|0|0|0|0|0|"
      ]
    },
    {
      "cell_type": "markdown",
      "source": [
        "$A\\oplus B$  \n",
        "= $A・\\overline{B} + \\overline{A}・B$  \n",
        "= $A・\\overline{A} + A・\\overline{B} + \\overline{A}・B + \\overline{B}・B$  \n",
        "= $A・(\\overline{A}+\\overline{B})+(\\overline{A}+\\overline{B})・B$  \n",
        "= $A・\\overline{A・B}　+\\overline{A・B}　・B$  \n",
        "= $\\overline{\\overline{A・\\overline{A・B}}}　+\\overline{\\overline{\\overline{A・B}　・B}}$  \n",
        "= $\\overline{\\overline{A・\\overline{A・B}}　・\\overline{\\overline{A・B}　・B}}$  \n",
        "これでNAND回路×4でXORを構成できる。  \n",
        "$\\overline{A・B}$　2つは共通として合計4つ。\n",
        "\n",
        "式変形のミソ：  \n",
        "$A・\\overline{A}=\\overline{B}・B=0$ を加算しているところ。  \n",
        "$\\overline{A}+\\overline{B}=\\overline{A・B}$　：NANDにしている。\n",
        "\n",
        "https://stacked-tip.hateblo.jp/entry/20170826/1503737327"
      ],
      "metadata": {
        "id": "HJFUatPvdvtf"
      }
    },
    {
      "cell_type": "code",
      "source": [
        "def XOR3(x1, x2):\n",
        "    s1 = NAND(x1, x2)\n",
        "    s21 = NAND(x1, s1)\n",
        "    s22 = NAND(s1, x2)\n",
        "    y = NAND(s21, s22)\n",
        "    return y\n",
        "\n",
        "if __name__ == '__main__':\n",
        "    for xs in [(0, 0), (1, 0), (0, 1), (1, 1)]:\n",
        "        y = XOR(xs[0], xs[1])\n",
        "        print(str(xs) + \" -> \" + str(y))"
      ],
      "metadata": {
        "colab": {
          "base_uri": "https://localhost:8080/"
        },
        "id": "qqUzBCRy91L-",
        "outputId": "9ce92713-ba4a-4f52-e605-711844fab80b"
      },
      "execution_count": null,
      "outputs": [
        {
          "output_type": "stream",
          "name": "stdout",
          "text": [
            "(0, 0) -> 0\n",
            "(1, 0) -> 1\n",
            "(0, 1) -> 1\n",
            "(1, 1) -> 0\n"
          ]
        }
      ]
    }
  ],
  "metadata": {
    "kernelspec": {
      "display_name": "dezero:Python",
      "language": "python",
      "name": "conda-env-dezero-py"
    },
    "language_info": {
      "codemirror_mode": {
        "name": "ipython",
        "version": 3
      },
      "file_extension": ".py",
      "mimetype": "text/x-python",
      "name": "python",
      "nbconvert_exporter": "python",
      "pygments_lexer": "ipython3",
      "version": "3.11.0"
    },
    "colab": {
      "provenance": []
    }
  },
  "nbformat": 4,
  "nbformat_minor": 0
}